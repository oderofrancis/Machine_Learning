{
  "nbformat": 4,
  "nbformat_minor": 0,
  "metadata": {
    "colab": {
      "provenance": [],
      "mount_file_id": "11Cab7yLOX2JpSRareGbtOFkins8UUJqG",
      "authorship_tag": "ABX9TyNt6aXiByFAq+wKG17qH4hs"
    },
    "kernelspec": {
      "name": "python3",
      "display_name": "Python 3"
    },
    "language_info": {
      "name": "python"
    }
  },
  "cells": [
    {
      "cell_type": "markdown",
      "source": [
        "# **Multiple Regression**"
      ],
      "metadata": {
        "id": "oeFwe0qRQJAf"
      }
    },
    {
      "cell_type": "markdown",
      "source": [
        "Multiple regression is a statistical method for modeling the relationship between multiple independent variables and a dependent variable. In multiple regression, the goal is to predict the value of the dependent variable based on the values of the independent variables.\n",
        "\n",
        "The basic equation for multiple regression is given by:\n",
        "\n",
        "`y = b0 + b1 * x1 + b2 * x2 + ... + bn * xn`"
      ],
      "metadata": {
        "id": "JxWXem-MQZRM"
      }
    },
    {
      "cell_type": "markdown",
      "source": [
        "where y is the dependent variable, b0 is the intercept, x1, x2, ..., xn are the independent variables, and b1, b2, ..., bn are the coefficients that represent the effect of each independent variable on the dependent variable.\n",
        "\n",
        "The coefficients are estimated using a statistical technique such as least squares regression. The goal is to find the coefficients that minimize the sum of the squared differences between the predicted values of the dependent variable and the actual values.\n",
        "\n",
        "Once the coefficients are estimated, the multiple regression model can be used to make predictions for new data by plugging in values for the independent variables. The predictions can be used for a variety of purposes, such as understanding the relationship between the independent variables and the dependent variable, making decisions based on the independent variables, and testing hypotheses about the relationships between the variables."
      ],
      "metadata": {
        "id": "ZEU5Vu7RRBwe"
      }
    },
    {
      "cell_type": "code",
      "execution_count": 2,
      "metadata": {
        "id": "Ho7iqRCYPzhB"
      },
      "outputs": [],
      "source": [
        "from sklearn import linear_model\n",
        "import pandas as pd"
      ]
    },
    {
      "cell_type": "code",
      "source": [
        "data = '/content/drive/MyDrive/Machine_Learning/vgsales.csv'"
      ],
      "metadata": {
        "id": "LvivApRNSjbP"
      },
      "execution_count": 3,
      "outputs": []
    },
    {
      "cell_type": "code",
      "source": [
        "data = pd.read_csv(data)"
      ],
      "metadata": {
        "id": "flyC4B5qSkpY"
      },
      "execution_count": 4,
      "outputs": []
    },
    {
      "cell_type": "code",
      "source": [
        "data.columns"
      ],
      "metadata": {
        "colab": {
          "base_uri": "https://localhost:8080/"
        },
        "id": "tuXoE24sS4HC",
        "outputId": "2f981cca-3c5c-4909-b032-1cd794d0fa6e"
      },
      "execution_count": 6,
      "outputs": [
        {
          "output_type": "execute_result",
          "data": {
            "text/plain": [
              "Index(['Rank', 'Name', 'Platform', 'Year', 'Genre', 'Publisher', 'NA_Sales',\n",
              "       'EU_Sales', 'JP_Sales', 'Other_Sales', 'Global_Sales'],\n",
              "      dtype='object')"
            ]
          },
          "metadata": {},
          "execution_count": 6
        }
      ]
    },
    {
      "cell_type": "code",
      "source": [
        "# get the x and y from the data\n",
        "\n",
        "x = data[['NA_Sales','EU_Sales', 'JP_Sales', 'Other_Sales']]\n",
        "y = data['Global_Sales']"
      ],
      "metadata": {
        "id": "98fu6qNRSoCm"
      },
      "execution_count": 7,
      "outputs": []
    },
    {
      "cell_type": "markdown",
      "source": [
        "From the sklearn module we will use the `LinearRegression()` method to create a linear regression object.\n",
        "\n",
        "This object has a method called `fit()` that takes the independent and dependent values as parameters and fills the regression object with data that describes the relationship:"
      ],
      "metadata": {
        "id": "6sKFqhtlRh_3"
      }
    },
    {
      "cell_type": "code",
      "source": [
        "regr = linear_model.LinearRegression()\n",
        "\n",
        "regr.fit(x, y)"
      ],
      "metadata": {
        "colab": {
          "base_uri": "https://localhost:8080/"
        },
        "id": "3rFN5JX6RdAm",
        "outputId": "6d9844e7-04ee-476c-bb35-c760a115fa88"
      },
      "execution_count": 11,
      "outputs": [
        {
          "output_type": "execute_result",
          "data": {
            "text/plain": [
              "LinearRegression()"
            ]
          },
          "metadata": {},
          "execution_count": 11
        }
      ]
    },
    {
      "cell_type": "code",
      "source": [
        "# Get the co-effiecient of the equation\n",
        "\n",
        "print(regr.coef_)"
      ],
      "metadata": {
        "colab": {
          "base_uri": "https://localhost:8080/"
        },
        "id": "WvA6P44URqxA",
        "outputId": "6cd6d4ae-e3c9-4272-f51d-cd99eceb4070"
      },
      "execution_count": 9,
      "outputs": [
        {
          "output_type": "stream",
          "name": "stdout",
          "text": [
            "[0.99994058 0.99998758 0.99988382 0.99958749]\n"
          ]
        }
      ]
    },
    {
      "cell_type": "markdown",
      "source": [
        "The intercept:"
      ],
      "metadata": {
        "id": "yRFP9FLKV8sP"
      }
    },
    {
      "cell_type": "code",
      "source": [
        "regr.intercept_"
      ],
      "metadata": {
        "colab": {
          "base_uri": "https://localhost:8080/"
        },
        "id": "F9B16A2lWDBO",
        "outputId": "5d45ccf3-77f5-401f-b2bf-8793cb2f097a"
      },
      "execution_count": 15,
      "outputs": [
        {
          "output_type": "execute_result",
          "data": {
            "text/plain": [
              "0.0003229496920061914"
            ]
          },
          "metadata": {},
          "execution_count": 15
        }
      ]
    },
    {
      "cell_type": "code",
      "source": [
        "# get the intercept and coefficients\n",
        "b0 = regr.intercept_\n",
        "b = regr.coef_"
      ],
      "metadata": {
        "id": "Eof4VoFeW2m8"
      },
      "execution_count": 16,
      "outputs": []
    },
    {
      "cell_type": "markdown",
      "source": [
        "The equation:\n"
      ],
      "metadata": {
        "id": "gRzkPjY1VKyo"
      }
    },
    {
      "cell_type": "code",
      "source": [
        "# print the equation of the line of best fit\n",
        "print(\"y = {:.8f} + {:.8f} * x1 + {:.8f} * x2 + {:.8f} * x3 \".format(b0, b[0], b[1], b[2]))"
      ],
      "metadata": {
        "colab": {
          "base_uri": "https://localhost:8080/"
        },
        "id": "nCIYVk_pWrcq",
        "outputId": "53938675-fdf5-4483-ac63-9f1c4fb94ad9"
      },
      "execution_count": 26,
      "outputs": [
        {
          "output_type": "stream",
          "name": "stdout",
          "text": [
            "y = 0.00032295 + 0.99994058 * x1 + 0.99998758 * x2 + 0.99988382 * x3 \n"
          ]
        }
      ]
    },
    {
      "cell_type": "markdown",
      "source": [
        "Predict NA,EU,JP and Other at 50 at all point"
      ],
      "metadata": {
        "id": "XMIUGJgxTu6I"
      }
    },
    {
      "cell_type": "code",
      "source": [
        "predicted_global_sales = regr.predict([[50, 50, 50, 50]])\n",
        "\n",
        "print(predicted_global_sales)"
      ],
      "metadata": {
        "colab": {
          "base_uri": "https://localhost:8080/"
        },
        "id": "u6Ucf8upT3aM",
        "outputId": "a6187e62-2cef-48cc-c24c-4ee1ef9ba44c"
      },
      "execution_count": 13,
      "outputs": [
        {
          "output_type": "stream",
          "name": "stdout",
          "text": [
            "[199.97029652]\n"
          ]
        },
        {
          "output_type": "stream",
          "name": "stderr",
          "text": [
            "/usr/local/lib/python3.8/dist-packages/sklearn/base.py:450: UserWarning: X does not have valid feature names, but LinearRegression was fitted with feature names\n",
            "  warnings.warn(\n"
          ]
        }
      ]
    },
    {
      "cell_type": "code",
      "source": [
        "predicted_global_sales"
      ],
      "metadata": {
        "colab": {
          "base_uri": "https://localhost:8080/"
        },
        "id": "30-to_8oUNUH",
        "outputId": "4a75fc86-3045-45b9-ef23-a79620c2774b"
      },
      "execution_count": 14,
      "outputs": [
        {
          "output_type": "execute_result",
          "data": {
            "text/plain": [
              "array([199.97029652])"
            ]
          },
          "metadata": {},
          "execution_count": 14
        }
      ]
    },
    {
      "cell_type": "code",
      "source": [],
      "metadata": {
        "id": "lM7drUVzUqss"
      },
      "execution_count": null,
      "outputs": []
    }
  ]
}