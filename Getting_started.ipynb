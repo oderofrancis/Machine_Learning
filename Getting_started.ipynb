{
  "nbformat": 4,
  "nbformat_minor": 0,
  "metadata": {
    "colab": {
      "provenance": [],
      "authorship_tag": "ABX9TyNkm/KG+p34EC15N7Ek6+2B"
    },
    "kernelspec": {
      "name": "python3",
      "display_name": "Python 3"
    },
    "language_info": {
      "name": "python"
    }
  },
  "cells": [
    {
      "cell_type": "markdown",
      "source": [
        "# Machine Learning\n"
      ],
      "metadata": {
        "id": "RA5s88Y0i-ea"
      }
    },
    {
      "cell_type": "markdown",
      "source": [
        "## Data Types\n",
        "\n",
        "To analyze data, it is important to know what type of data we are dealing with.\n",
        "\n",
        "We can split the data types into three main categories:\n",
        "\n",
        "- Numerical\n",
        "- Categorical\n",
        "- Ordinal"
      ],
      "metadata": {
        "id": "6j_iwejajD_t"
      }
    },
    {
      "cell_type": "markdown",
      "source": [
        "Numerical data are numbers, and can be split into two numerical categories:\n",
        "\n",
        "Discrete Data\n",
        "- numbers that are limited to integers. Example: The number of cars passing by.\n",
        "Continuous Data\n",
        "- numbers that are of infinite value. Example: The price of an item, or the size of an item\n",
        "Categorical data are values that cannot be measured up against each other. Example: a color value, or any yes/no values.\n",
        "\n",
        "Ordinal data are like categorical data, but can be measured up against each other. Example: school grades where A is better than B and so on."
      ],
      "metadata": {
        "id": "YWuEYfOOjlMv"
      }
    },
    {
      "cell_type": "markdown",
      "source": [
        "### Mean"
      ],
      "metadata": {
        "id": "_O3JWGMSlc44"
      }
    },
    {
      "cell_type": "code",
      "execution_count": 1,
      "metadata": {
        "id": "7FAPAWHkftpQ",
        "colab": {
          "base_uri": "https://localhost:8080/"
        },
        "outputId": "67982aea-0f00-4e68-a550-095e7bc95520"
      },
      "outputs": [
        {
          "output_type": "stream",
          "name": "stdout",
          "text": [
            "89.76923076923077\n"
          ]
        }
      ],
      "source": [
        "import numpy\n",
        "\n",
        "\n",
        "speed = [99,86,87,88,111,86,103,87,94,78,77,85,86]\n",
        "\n",
        "x = numpy.mean(speed)\n",
        "\n",
        "print(x)"
      ]
    },
    {
      "cell_type": "markdown",
      "source": [
        "### Median"
      ],
      "metadata": {
        "id": "osKaVhZNlae_"
      }
    },
    {
      "cell_type": "code",
      "source": [
        "import numpy\n",
        "\n",
        "speed = [99,86,87,88,86,103,87,94,78,77,85,86]\n",
        "\n",
        "x = numpy.median(speed)\n",
        "\n",
        "print(x)"
      ],
      "metadata": {
        "colab": {
          "base_uri": "https://localhost:8080/"
        },
        "id": "Gy_emI8Rkxu0",
        "outputId": "460de2b2-36c2-48cf-c5e9-da3fe9319db8"
      },
      "execution_count": 2,
      "outputs": [
        {
          "output_type": "stream",
          "name": "stdout",
          "text": [
            "86.5\n"
          ]
        }
      ]
    },
    {
      "cell_type": "markdown",
      "source": [
        "### Mode"
      ],
      "metadata": {
        "id": "YXR7efxelXIu"
      }
    },
    {
      "cell_type": "code",
      "source": [
        "from scipy import stats\n",
        "\n",
        "speed = [99,86,87,88,111,86,103,87,94,78,77,85,86]\n",
        "\n",
        "x = stats.mode(speed)\n",
        "\n",
        "print(x)"
      ],
      "metadata": {
        "colab": {
          "base_uri": "https://localhost:8080/"
        },
        "id": "_Olxc0N6lGwF",
        "outputId": "ac7f7c46-8002-4b58-9a61-25302188c67a"
      },
      "execution_count": 5,
      "outputs": [
        {
          "output_type": "stream",
          "name": "stdout",
          "text": [
            "ModeResult(mode=array([86]), count=array([3]))\n"
          ]
        }
      ]
    },
    {
      "cell_type": "markdown",
      "source": [
        "### Standard deviation\n",
        "\n",
        "Use the NumPy std() method to find the standard deviation:"
      ],
      "metadata": {
        "id": "Nx3GmK7uon9D"
      }
    },
    {
      "cell_type": "code",
      "source": [
        "\n",
        "import numpy\n",
        "\n",
        "speed = [86,87,88,86,87,85,86]\n",
        "\n",
        "x = numpy.std(speed)\n",
        "\n",
        "print(x)"
      ],
      "metadata": {
        "colab": {
          "base_uri": "https://localhost:8080/"
        },
        "id": "PiuSFE-olMaO",
        "outputId": "9d6d36b7-794b-4b95-d54a-d4cd71d4db78"
      },
      "execution_count": 6,
      "outputs": [
        {
          "output_type": "stream",
          "name": "stdout",
          "text": [
            "0.9035079029052513\n"
          ]
        }
      ]
    },
    {
      "cell_type": "markdown",
      "source": [
        "### Variance\n",
        "\n",
        "Use the NumPy var() method to find the variance:"
      ],
      "metadata": {
        "id": "KsjnNsfNpG9M"
      }
    },
    {
      "cell_type": "code",
      "source": [
        "import numpy\n",
        "\n",
        "speed = [32,111,138,28,59,77,97]\n",
        "\n",
        "x = numpy.var(speed)\n",
        "\n",
        "print(x)"
      ],
      "metadata": {
        "colab": {
          "base_uri": "https://localhost:8080/"
        },
        "id": "OcuF4J-IpGaz",
        "outputId": "75de7509-fabb-43cf-9128-c121fe107448"
      },
      "execution_count": 7,
      "outputs": [
        {
          "output_type": "stream",
          "name": "stdout",
          "text": [
            "1432.2448979591834\n"
          ]
        }
      ]
    },
    {
      "cell_type": "code",
      "source": [
        "#Use the NumPy percentile() method to find the percentiles:\n",
        "\n",
        "import numpy\n",
        "\n",
        "ages = [5,31,43,48,50,41,7,11,15,39,80,82,32,2,8,6,25,36,27,61,31]\n",
        "\n",
        "x = numpy.percentile(ages, 90) #can be 90,80,50\n",
        "\n",
        "print(x)"
      ],
      "metadata": {
        "colab": {
          "base_uri": "https://localhost:8080/"
        },
        "id": "viMmFuwSpoMI",
        "outputId": "9dcd8597-3ce9-4527-b6d1-2617f624972f"
      },
      "execution_count": 9,
      "outputs": [
        {
          "output_type": "stream",
          "name": "stdout",
          "text": [
            "61.0\n"
          ]
        }
      ]
    },
    {
      "cell_type": "markdown",
      "source": [
        "## A typical normal data distribution:"
      ],
      "metadata": {
        "id": "WUkVmU8ELBmA"
      }
    },
    {
      "cell_type": "code",
      "source": [
        "import numpy\n",
        "import matplotlib.pyplot as plt\n",
        "\n",
        "x = numpy.random.normal(5.0, 1.0, 100000)\n",
        "\n",
        "plt.hist(x, 100)\n",
        "plt.show()"
      ],
      "metadata": {
        "colab": {
          "base_uri": "https://localhost:8080/",
          "height": 265
        },
        "id": "9g-W3HJ_K11h",
        "outputId": "2686d151-4847-4e21-ba21-025101617829"
      },
      "execution_count": 10,
      "outputs": [
        {
          "output_type": "display_data",
          "data": {
            "text/plain": [
              "<Figure size 432x288 with 1 Axes>"
            ],
            "image/png": "[encoded data removed]"
          },
          "metadata": {
            "needs_background": "light"
          }
        }
      ]
    },
    {
      "cell_type": "code",
      "source": [],
      "metadata": {
        "id": "Oo0Wrif7K2YB"
      },
      "execution_count": null,
      "outputs": []
    }
  ]
}